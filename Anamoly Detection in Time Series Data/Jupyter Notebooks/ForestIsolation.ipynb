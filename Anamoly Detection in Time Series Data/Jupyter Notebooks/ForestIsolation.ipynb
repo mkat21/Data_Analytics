{
 "cells": [
  {
   "cell_type": "code",
   "execution_count": 1,
   "id": "4ae6d304",
   "metadata": {},
   "outputs": [
    {
     "name": "stdout",
     "output_type": "stream",
     "text": [
      "Isolation Forest Results:\n",
      "Accuracy: 0.9904731809510434\n",
      "Precision: 0.09738717339667459\n",
      "Recall: 0.6029411764705882\n",
      "F1-score: 0.16768916155419222\n"
     ]
    }
   ],
   "source": [
    "import pandas as pd\n",
    "from sklearn.model_selection import train_test_split\n",
    "from sklearn.preprocessing import StandardScaler\n",
    "from sklearn.ensemble import IsolationForest\n",
    "from sklearn.metrics import accuracy_score, precision_score, recall_score, f1_score\n",
    "\n",
    "# Load the dataset\n",
    "data = pd.read_csv('creditcard.csv')\n",
    "\n",
    "# Data preprocessing\n",
    "X = data.drop(columns=['Class'])  # Features\n",
    "y = data['Class']  # Class labels\n",
    "\n",
    "# Split the dataset into training and testing sets\n",
    "X_train, X_test, y_train, y_test = train_test_split(X, y, test_size=0.3, random_state=42)\n",
    "\n",
    "# Feature scaling\n",
    "scaler = StandardScaler()\n",
    "X_train_scaled = scaler.fit_transform(X_train)\n",
    "X_test_scaled = scaler.transform(X_test)\n",
    "\n",
    "# Create the Isolation Forest model\n",
    "if_model = IsolationForest(contamination=0.01, random_state=42)\n",
    "\n",
    "# Train the model on the training set\n",
    "if_model.fit(X_train_scaled)\n",
    "\n",
    "# Predict anomalies on the test set\n",
    "y_pred_if = if_model.predict(X_test_scaled)\n",
    "\n",
    "# Convert the predicted values to binary (1 for anomaly, -1 for normal)\n",
    "y_pred_if_binary = [1 if pred == -1 else 0 for pred in y_pred_if]\n",
    "\n",
    "# Calculate evaluation metrics for Isolation Forest\n",
    "accuracy_if = accuracy_score(y_test, y_pred_if_binary)\n",
    "precision_if = precision_score(y_test, y_pred_if_binary)\n",
    "recall_if = recall_score(y_test, y_pred_if_binary)\n",
    "f1_if = f1_score(y_test, y_pred_if_binary)\n",
    "\n",
    "# Print the evaluation metrics for Isolation Forest\n",
    "print(\"Isolation Forest Results:\")\n",
    "print(f\"Accuracy: {accuracy_if}\")\n",
    "print(f\"Precision: {precision_if}\")\n",
    "print(f\"Recall: {recall_if}\")\n",
    "print(f\"F1-score: {f1_if}\")\n"
   ]
  },
  {
   "cell_type": "code",
   "execution_count": null,
   "id": "97219633",
   "metadata": {},
   "outputs": [],
   "source": []
  },
  {
   "cell_type": "code",
   "execution_count": null,
   "id": "0af981b4",
   "metadata": {},
   "outputs": [],
   "source": []
  }
 ],
 "metadata": {
  "kernelspec": {
   "display_name": "Python 3 (ipykernel)",
   "language": "python",
   "name": "python3"
  },
  "language_info": {
   "codemirror_mode": {
    "name": "ipython",
    "version": 3
   },
   "file_extension": ".py",
   "mimetype": "text/x-python",
   "name": "python",
   "nbconvert_exporter": "python",
   "pygments_lexer": "ipython3",
   "version": "3.11.4"
  }
 },
 "nbformat": 4,
 "nbformat_minor": 5
}
