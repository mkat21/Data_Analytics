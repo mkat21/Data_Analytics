{
 "cells": [
  {
   "cell_type": "code",
   "execution_count": 4,
   "id": "cd0398f6",
   "metadata": {},
   "outputs": [
    {
     "name": "stdout",
     "output_type": "stream",
     "text": [
      "KNN Results:\n",
      "Accuracy: 0.9994148145547324\n",
      "Precision: 0.8583333333333333\n",
      "Recall: 0.7573529411764706\n",
      "F1-score: 0.8046874999999999\n"
     ]
    }
   ],
   "source": [
    "import pandas as pd\n",
    "from sklearn.model_selection import train_test_split\n",
    "from sklearn.preprocessing import StandardScaler\n",
    "from sklearn.neighbors import KNeighborsClassifier\n",
    "from sklearn.metrics import accuracy_score, precision_score, recall_score, f1_score\n",
    "\n",
    "# Load the dataset\n",
    "data = pd.read_csv('creditcard.csv')\n",
    "\n",
    "# Data preprocessing\n",
    "X = data.drop(columns=['Class'])  # Features\n",
    "y = data['Class']  # Class labels\n",
    "\n",
    "# Split the dataset into training and testing sets\n",
    "X_train, X_test, y_train, y_test = train_test_split(X, y, test_size=0.3, random_state=42)\n",
    "\n",
    "# Feature scaling\n",
    "scaler = StandardScaler()\n",
    "X_train_scaled = scaler.fit_transform(X_train)\n",
    "X_test_scaled = scaler.transform(X_test)\n",
    "\n",
    "# Create the KNN model\n",
    "knn_model = KNeighborsClassifier(n_neighbors=5)\n",
    "\n",
    "# Train the model on the training set\n",
    "knn_model.fit(X_train_scaled, y_train)\n",
    "\n",
    "# Predict anomalies on the test set\n",
    "y_pred_knn = knn_model.predict(X_test_scaled)\n",
    "\n",
    "# Calculate evaluation metrics for KNN\n",
    "accuracy_knn = accuracy_score(y_test, y_pred_knn)\n",
    "precision_knn = precision_score(y_test, y_pred_knn)\n",
    "recall_knn = recall_score(y_test, y_pred_knn)\n",
    "f1_knn = f1_score(y_test, y_pred_knn)\n",
    "\n",
    "# Print the evaluation metrics for KNN\n",
    "print(\"KNN Results:\")\n",
    "print(f\"Accuracy: {accuracy_knn}\")\n",
    "print(f\"Precision: {precision_knn}\")\n",
    "print(f\"Recall: {recall_knn}\")\n",
    "print(f\"F1-score: {f1_knn}\")\n"
   ]
  },
  {
   "cell_type": "code",
   "execution_count": null,
   "id": "012fe0c8",
   "metadata": {},
   "outputs": [],
   "source": []
  }
 ],
 "metadata": {
  "kernelspec": {
   "display_name": "Python 3 (ipykernel)",
   "language": "python",
   "name": "python3"
  },
  "language_info": {
   "codemirror_mode": {
    "name": "ipython",
    "version": 3
   },
   "file_extension": ".py",
   "mimetype": "text/x-python",
   "name": "python",
   "nbconvert_exporter": "python",
   "pygments_lexer": "ipython3",
   "version": "3.11.4"
  }
 },
 "nbformat": 4,
 "nbformat_minor": 5
}
