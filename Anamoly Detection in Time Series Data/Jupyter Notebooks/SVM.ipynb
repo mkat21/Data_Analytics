{
 "cells": [
  {
   "cell_type": "code",
   "execution_count": 1,
   "id": "34fdb368",
   "metadata": {},
   "outputs": [
    {
     "name": "stdout",
     "output_type": "stream",
     "text": [
      "Execution Time: 0.00 seconds\n",
      "SVM Results:\n",
      "Accuracy: 0.4991631848132673\n",
      "Precision: 0.0030985718612398946\n",
      "Recall: 0.9779411764705882\n",
      "F1-score: 0.006177570310504192\n"
     ]
    }
   ],
   "source": [
    "import pandas as pd\n",
    "from sklearn.model_selection import train_test_split\n",
    "from sklearn.preprocessing import StandardScaler\n",
    "from sklearn.svm import OneClassSVM\n",
    "from sklearn.metrics import accuracy_score, precision_score, recall_score, f1_score\n",
    "import time\n",
    "\n",
    "start_time = time.time()\n",
    "\n",
    "# Your code here\n",
    "\n",
    "end_time = time.time()\n",
    "execution_time = end_time - start_time\n",
    "print(f\"Execution Time: {execution_time:.2f} seconds\")\n",
    "\n",
    "# Load the dataset\n",
    "data = pd.read_csv('creditcard.csv')\n",
    "\n",
    "# Data preprocessing\n",
    "X = data.drop(columns=['Class'])  # Features\n",
    "y = data['Class']  # Class labels\n",
    "\n",
    "# Split the dataset into training and testing sets\n",
    "X_train, X_test, y_train, y_test = train_test_split(X, y, test_size=0.3, random_state=42)\n",
    "\n",
    "# Feature scaling\n",
    "scaler = StandardScaler()\n",
    "X_train_scaled = scaler.fit_transform(X_train)\n",
    "X_test_scaled = scaler.transform(X_test)\n",
    "\n",
    "# Create the One-Class SVM model\n",
    "svm_model = OneClassSVM(gamma='auto')\n",
    "\n",
    "# Train the model on the training set\n",
    "svm_model.fit(X_train_scaled)\n",
    "\n",
    "# Predict anomalies on the test set\n",
    "y_pred_svm = svm_model.predict(X_test_scaled)\n",
    "\n",
    "# Convert the predicted values to binary (1 for anomaly, -1 for normal)\n",
    "y_pred_svm_binary = [1 if pred == -1 else 0 for pred in y_pred_svm]\n",
    "\n",
    "# Calculate evaluation metrics for SVM\n",
    "accuracy_svm = accuracy_score(y_test, y_pred_svm_binary)\n",
    "precision_svm = precision_score(y_test, y_pred_svm_binary)\n",
    "recall_svm = recall_score(y_test, y_pred_svm_binary)\n",
    "f1_svm = f1_score(y_test, y_pred_svm_binary)\n",
    "\n",
    "# Print the evaluation metrics for SVM\n",
    "print(\"SVM Results:\")\n",
    "print(f\"Accuracy: {accuracy_svm}\")\n",
    "print(f\"Precision: {precision_svm}\")\n",
    "print(f\"Recall: {recall_svm}\")\n",
    "print(f\"F1-score: {f1_svm}\")\n"
   ]
  },
  {
   "cell_type": "code",
   "execution_count": null,
   "id": "7e94aa06",
   "metadata": {},
   "outputs": [],
   "source": []
  }
 ],
 "metadata": {
  "kernelspec": {
   "display_name": "Python 3 (ipykernel)",
   "language": "python",
   "name": "python3"
  },
  "language_info": {
   "codemirror_mode": {
    "name": "ipython",
    "version": 3
   },
   "file_extension": ".py",
   "mimetype": "text/x-python",
   "name": "python",
   "nbconvert_exporter": "python",
   "pygments_lexer": "ipython3",
   "version": "3.11.4"
  }
 },
 "nbformat": 4,
 "nbformat_minor": 5
}
